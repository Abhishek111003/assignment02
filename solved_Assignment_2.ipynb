{
 "cells": [
  {
   "cell_type": "markdown",
   "id": "6f28742f",
   "metadata": {},
   "source": [
    "# 1 Explain the importance of Functions\n",
    "- No need to rewrite the same code again and again\n",
    "- Makes code more readable"
   ]
  },
  {
   "cell_type": "code",
   "execution_count": 3,
   "id": "131c4858",
   "metadata": {},
   "outputs": [
    {
     "name": "stdout",
     "output_type": "stream",
     "text": [
      "Hello Abhishek welcome to the course\n"
     ]
    }
   ],
   "source": [
    "# 2 Write a basic function to greet students\\\n",
    "def greet(name):\n",
    "    print(f\"Hello {name} welcome to the course\")\n",
    "greet(\"Abhishek\")"
   ]
  },
  {
   "cell_type": "markdown",
   "id": "de89b984",
   "metadata": {},
   "source": [
    "# 3 What is the difference between print and return statements\n",
    "- Print value just prints the content while the return statement actually returns back a value"
   ]
  },
  {
   "cell_type": "code",
   "execution_count": 4,
   "id": "e67c7b42",
   "metadata": {},
   "outputs": [],
   "source": [
    "# 4 What are *args and **kwargs\n",
    "# *args is a non - Keyworded arguments while  **kwargs is a variable number of keyword arguments"
   ]
  },
  {
   "cell_type": "code",
   "execution_count": 5,
   "id": "b4469833",
   "metadata": {},
   "outputs": [],
   "source": [
    "# 5  Explain the iterator function\n",
    "# iterator allows us to iterate over an iterable objects like list,tuple,dict etc"
   ]
  },
  {
   "cell_type": "code",
   "execution_count": 7,
   "id": "2423401c",
   "metadata": {},
   "outputs": [
    {
     "name": "stdout",
     "output_type": "stream",
     "text": [
      "1\n",
      "4\n",
      "9\n",
      "16\n",
      "25\n"
     ]
    }
   ],
   "source": [
    "# 6 Write a code that generates the squares of numbers from 1 to n using a generator\n",
    "def square(n):\n",
    "    for i in range(1,n+1):\n",
    "        print(i**2)\n",
    "square(5)"
   ]
  },
  {
   "cell_type": "code",
   "execution_count": 15,
   "id": "4cdef26a",
   "metadata": {},
   "outputs": [
    {
     "name": "stdout",
     "output_type": "stream",
     "text": [
      "0\n",
      "1\n",
      "2\n",
      "3\n",
      "4\n",
      "5\n",
      "6\n",
      "7\n",
      "8\n",
      "9\n",
      "11\n",
      "22\n"
     ]
    }
   ],
   "source": [
    "# 7 Write a code that generates palindromic numbers up to n using a generator\n",
    "def number(n):\n",
    "    for i in range(n):\n",
    "        z = str(i)\n",
    "        if z == z[::-1]:\n",
    "            print(z)\n",
    "number(23)"
   ]
  },
  {
   "cell_type": "code",
   "execution_count": 17,
   "id": "8b10d998",
   "metadata": {},
   "outputs": [
    {
     "name": "stdout",
     "output_type": "stream",
     "text": [
      "0\n",
      "2\n",
      "4\n",
      "6\n",
      "8\n",
      "10\n",
      "12\n"
     ]
    }
   ],
   "source": [
    "# 8  Write a code that generates even numbers from 2 to n using a generator\n",
    "def isEven(n):\n",
    "    for i in range(n+1):\n",
    "        if i%2 == 0:\n",
    "            print(i)\n",
    "isEven(12)"
   ]
  },
  {
   "cell_type": "code",
   "execution_count": 18,
   "id": "bf18a4d8",
   "metadata": {},
   "outputs": [
    {
     "name": "stdout",
     "output_type": "stream",
     "text": [
      "2\n",
      "4\n",
      "8\n",
      "16\n"
     ]
    }
   ],
   "source": [
    "# 9 Write a code that generates powers of two up to n using a generator\n",
    "def twos_power(n):\n",
    "    for i in range(1,n+1):\n",
    "        print(2**i)\n",
    "twos_power(4)"
   ]
  },
  {
   "cell_type": "code",
   "execution_count": 16,
   "id": "4cd97541",
   "metadata": {},
   "outputs": [
    {
     "ename": "ValueError",
     "evalue": "invalid literal for int() with base 10: ''",
     "output_type": "error",
     "traceback": [
      "\u001b[1;31m---------------------------------------------------------------------------\u001b[0m",
      "\u001b[1;31mValueError\u001b[0m                                Traceback (most recent call last)",
      "Cell \u001b[1;32mIn[16], line 12\u001b[0m\n\u001b[0;32m     10\u001b[0m         \u001b[38;5;28;01mreturn\u001b[39;00m \u001b[38;5;28;01mFalse\u001b[39;00m\n\u001b[0;32m     11\u001b[0m x \u001b[38;5;241m=\u001b[39m \u001b[38;5;28minput\u001b[39m(\u001b[38;5;124m\"\u001b[39m\u001b[38;5;124mEnter Number \u001b[39m\u001b[38;5;124m\"\u001b[39m)\n\u001b[1;32m---> 12\u001b[0m \u001b[38;5;28;01mfor\u001b[39;00m i \u001b[38;5;129;01min\u001b[39;00m \u001b[38;5;28mrange\u001b[39m(\u001b[38;5;241m2\u001b[39m,\u001b[38;5;28;43mint\u001b[39;49m\u001b[43m(\u001b[49m\u001b[43mx\u001b[49m\u001b[43m)\u001b[49m\u001b[38;5;241m+\u001b[39m\u001b[38;5;241m1\u001b[39m):\n\u001b[0;32m     13\u001b[0m     \u001b[38;5;28;01mif\u001b[39;00m checkprime(i):\n\u001b[0;32m     14\u001b[0m         \u001b[38;5;28mprint\u001b[39m(i)\n",
      "\u001b[1;31mValueError\u001b[0m: invalid literal for int() with base 10: ''"
     ]
    }
   ],
   "source": [
    "# 10  Write a code that generates prime numbers up to n using a generator\n",
    "def checkprime(n):\n",
    "    counter=[]\n",
    "    for i in range(1,n):\n",
    "        if n%i == 0:\n",
    "            counter.append(i)\n",
    "    if len(counter)<2:\n",
    "        return True\n",
    "    else:\n",
    "        return False\n",
    "x = input(\"Enter Number \")\n",
    "for i in range(2,int(x)+1):\n",
    "    if checkprime(i):\n",
    "        print(i)"
   ]
  },
  {
   "cell_type": "code",
   "execution_count": 26,
   "id": "cc61eb84",
   "metadata": {},
   "outputs": [
    {
     "name": "stdout",
     "output_type": "stream",
     "text": [
      "30\n"
     ]
    }
   ],
   "source": [
    "# 11 Write a code that uses a lambda function to calculate the sum of two numbers\n",
    "sum = lambda x,y:x+y\n",
    "print(sum(10,20))"
   ]
  },
  {
   "cell_type": "code",
   "execution_count": 27,
   "id": "51060fae",
   "metadata": {},
   "outputs": [
    {
     "name": "stdout",
     "output_type": "stream",
     "text": [
      "484\n"
     ]
    }
   ],
   "source": [
    "# 12  Write a code that uses a lambda function to calculate the square of a given number\n",
    "square = lambda x : x**2\n",
    "print(square(22))"
   ]
  },
  {
   "cell_type": "code",
   "execution_count": 30,
   "id": "3c15002b",
   "metadata": {},
   "outputs": [
    {
     "name": "stdout",
     "output_type": "stream",
     "text": [
      "False\n"
     ]
    }
   ],
   "source": [
    "# 13 Write a code that uses a lambda function to check whether a given number is even or odd\n",
    "\n",
    "isEven_num = lambda x : True if x%2 == 0 else False\n",
    "print(isEven_num(1))"
   ]
  },
  {
   "cell_type": "code",
   "execution_count": 31,
   "id": "a7a56802",
   "metadata": {},
   "outputs": [
    {
     "name": "stdout",
     "output_type": "stream",
     "text": [
      "hello68\n"
     ]
    }
   ],
   "source": [
    "# 15 Write a code that uses a lambda function to concatenate two strings\n",
    "concat = lambda x,y : str(x)+str(y)\n",
    "print(concat(\"hello\",68))"
   ]
  },
  {
   "cell_type": "code",
   "execution_count": 1,
   "id": "60686238",
   "metadata": {},
   "outputs": [
    {
     "name": "stdout",
     "output_type": "stream",
     "text": [
      "6\n"
     ]
    }
   ],
   "source": [
    "# 16 Write a code that uses a lambda function to find the maximum of three given numbers\n",
    "x = lambda a,b,c:max([a,b,c])\n",
    "print(x(4,5,6))"
   ]
  },
  {
   "cell_type": "code",
   "execution_count": 6,
   "id": "84d85737",
   "metadata": {},
   "outputs": [
    {
     "data": {
      "text/plain": [
       "[100, 400, 900]"
      ]
     },
     "execution_count": 6,
     "metadata": {},
     "output_type": "execute_result"
    }
   ],
   "source": [
    "# 17  Write a code that generates the squares of even numbers from a given list\n",
    "def evensquare(listofnumbers):\n",
    "    even = []\n",
    "    for i in listofnumbers:\n",
    "        if i%2 == 0:\n",
    "            even.append(i)\n",
    "    sq = []\n",
    "    for i in even:\n",
    "        sq.append(i**2)\n",
    "    return sq\n",
    "evensquare([10,20,30])"
   ]
  },
  {
   "cell_type": "code",
   "execution_count": 11,
   "id": "343c0d43",
   "metadata": {},
   "outputs": [
    {
     "data": {
      "text/plain": [
       "216"
      ]
     },
     "execution_count": 11,
     "metadata": {},
     "output_type": "execute_result"
    }
   ],
   "source": [
    "# 18 Write a code that calculates the product of positive numbers from a given list\n",
    "def prod_positive(ent_list):\n",
    "    positive = []\n",
    "    for i in ent_list:\n",
    "        if i>0:\n",
    "            positive.append(i) \n",
    "    p_num = 1\n",
    "    for i in positive:\n",
    "        p_num = p_num*i\n",
    "    return p_num\n",
    "prod_positive([1,2,3,4,9,-2,-78])"
   ]
  },
  {
   "cell_type": "code",
   "execution_count": 13,
   "id": "bd9f3fb5",
   "metadata": {},
   "outputs": [
    {
     "data": {
      "text/plain": [
       "[2, 6, 10, 14, 178, 14, 6]"
      ]
     },
     "execution_count": 13,
     "metadata": {},
     "output_type": "execute_result"
    }
   ],
   "source": [
    "# 19 Write a code that doubles the values of odd numbers from a given list\n",
    "def double_odd(li):\n",
    "    odd =[]\n",
    "    for i in li:\n",
    "        if i%2 == 1:\n",
    "            odd.append(i)\n",
    "    new_li = [i*2 for i in odd]\n",
    "    return new_li\n",
    "double_odd([1,2,3,4,5,6,7,89,8,7,6,54,3])"
   ]
  },
  {
   "cell_type": "code",
   "execution_count": 14,
   "id": "c97669e8",
   "metadata": {},
   "outputs": [
    {
     "data": {
      "text/plain": [
       "12482"
      ]
     },
     "execution_count": 14,
     "metadata": {},
     "output_type": "execute_result"
    }
   ],
   "source": [
    "# 20 Write a code that calculates the sum of cubes of numbers from a given list\n",
    "def cube_sums(li):\n",
    "    cubes = [i**3 for i in li]\n",
    "    return sum(cubes)\n",
    "cube_sums([1,23,4,5,5])"
   ]
  },
  {
   "cell_type": "code",
   "execution_count": 33,
   "id": "ebe96de0",
   "metadata": {},
   "outputs": [
    {
     "data": {
      "text/plain": [
       "[2, 44, 6, 5, 4, 4]"
      ]
     },
     "execution_count": 33,
     "metadata": {},
     "output_type": "execute_result"
    }
   ],
   "source": [
    "# 21 Write a code that filters out prime numbers from a given list\n",
    "def rem_prime(list1):    \n",
    "    stack=list1.copy()\n",
    "    for i in stack:    \n",
    "        if checkprime(i):\n",
    "            stack.remove(i)\n",
    "    return stack\n",
    "rem_prime([1,2,3,44,5,6,7,5,3,4,4])"
   ]
  },
  {
   "cell_type": "code",
   "execution_count": 36,
   "id": "617aa447",
   "metadata": {},
   "outputs": [
    {
     "data": {
      "text/plain": [
       "9"
      ]
     },
     "execution_count": 36,
     "metadata": {},
     "output_type": "execute_result"
    }
   ],
   "source": [
    "# 22  Write a code that uses a lambda function to calculate the sum of two numbers\n",
    "total = lambda x,y:x+y\n",
    "total(4,5)"
   ]
  },
  {
   "cell_type": "code",
   "execution_count": 37,
   "id": "67e09ac5",
   "metadata": {},
   "outputs": [
    {
     "data": {
      "text/plain": [
       "25"
      ]
     },
     "execution_count": 37,
     "metadata": {},
     "output_type": "execute_result"
    }
   ],
   "source": [
    "# 23  Write a code that uses a lambda function to calculate the square of a given number\n",
    "sq = lambda x : x**2\n",
    "sq(5)"
   ]
  },
  {
   "cell_type": "code",
   "execution_count": 39,
   "id": "71dfda90",
   "metadata": {},
   "outputs": [
    {
     "data": {
      "text/plain": [
       "'even'"
      ]
     },
     "execution_count": 39,
     "metadata": {},
     "output_type": "execute_result"
    }
   ],
   "source": [
    "# 24 Write a code that uses a lambda function to check whether a given number is even or odd\n",
    "ev_or_odd = lambda x : \"odd\" if x%2 == 1 else \"even\"\n",
    "ev_or_odd(10)"
   ]
  },
  {
   "cell_type": "code",
   "execution_count": 40,
   "id": "c2a4bf75",
   "metadata": {},
   "outputs": [
    {
     "name": "stdout",
     "output_type": "stream",
     "text": [
      "hello68\n"
     ]
    }
   ],
   "source": [
    "# 25 Write a code that uses a lambda function to concatenate two strings\n",
    "concat = lambda x,y : str(x)+str(y)\n",
    "print(concat(\"hello\",68))"
   ]
  },
  {
   "cell_type": "code",
   "execution_count": 42,
   "id": "6ae00968",
   "metadata": {},
   "outputs": [
    {
     "name": "stdout",
     "output_type": "stream",
     "text": [
      "6\n"
     ]
    }
   ],
   "source": [
    "# 26 Write a code that uses a lambda function to find the maximum of three given numbers\n",
    "x = lambda a,b,c:max([a,b,c])\n",
    "print(x(4,5,6))"
   ]
  },
  {
   "cell_type": "code",
   "execution_count": 43,
   "id": "2bd207e7",
   "metadata": {},
   "outputs": [],
   "source": [
    "# 27  What is encapsulation in OOP?\n",
    "# Encapsulation is a fundamental object-oriented principle in Python. It protects your classes from accidental changes or deletions and promotes code reusability and maintainability."
   ]
  },
  {
   "cell_type": "code",
   "execution_count": 44,
   "id": "05fb8b7b",
   "metadata": {},
   "outputs": [],
   "source": [
    "# 28 Explain the use of access modifiers in Python classes\n",
    "# to restrict the access of the class member variable and methods from outside the class\n"
   ]
  },
  {
   "cell_type": "code",
   "execution_count": 45,
   "id": "0c6073b0",
   "metadata": {},
   "outputs": [],
   "source": [
    "# 29 What is inheritance in OOP\n",
    "\n",
    "# Inheritance allows us to define a class that inherits all the methods and properties from another class."
   ]
  },
  {
   "cell_type": "code",
   "execution_count": 46,
   "id": "5bf98907",
   "metadata": {},
   "outputs": [],
   "source": [
    "# 30  Define polymorphism in OOP\n",
    "# In object-oriented-based Python programming, Polymorphism means the same function name is being used for different types."
   ]
  },
  {
   "cell_type": "code",
   "execution_count": 47,
   "id": "f73c117b",
   "metadata": {},
   "outputs": [],
   "source": [
    "# # 31 Explain method overriding in Python\n",
    "# Overriding is where the child class function will override the parent class function\n"
   ]
  },
  {
   "cell_type": "code",
   "execution_count": 50,
   "id": "3bd5d039",
   "metadata": {},
   "outputs": [
    {
     "name": "stdout",
     "output_type": "stream",
     "text": [
      "whoof whoof\n"
     ]
    }
   ],
   "source": [
    "# 32 Define a parent class Animal with a method make_sound that prints \"Generic animal sound\". Create a \n",
    "# child class Dog inheriting from Animal with a method make_sound that prints \"Woof!\"\n",
    "class Parent:\n",
    "    def generic(self):\n",
    "        print(\"general animal sound\")\n",
    "class dog(Parent):\n",
    "    def dog_sound(self):\n",
    "        print(\"whoof whoof\")\n",
    "x = dog()\n",
    "x.dog_sound()"
   ]
  },
  {
   "cell_type": "code",
   "execution_count": 53,
   "id": "3fc45d26",
   "metadata": {},
   "outputs": [
    {
     "name": "stdout",
     "output_type": "stream",
     "text": [
      "dogmove\n"
     ]
    }
   ],
   "source": [
    "# 33 Define a method move in the Animal class that prints \"Animal moves\". Override the move method in the \n",
    "# Dog class to print \"Dog runs.\n",
    "class Parent:\n",
    "    def generic(self):\n",
    "        print(\"general animal sound\")\n",
    "    def move(self):\n",
    "        print(\"Animal Move\")\n",
    "class dog(Parent):\n",
    "    def dog_sound(self):\n",
    "        print(\"whoof whoof\")\n",
    "    def move(self):\n",
    "        print(\"dogmove\")\n",
    "\n",
    "x = dog()\n",
    "x.move()"
   ]
  },
  {
   "cell_type": "code",
   "execution_count": 56,
   "id": "0b198cf6",
   "metadata": {},
   "outputs": [],
   "source": [
    "# 34 Create a class Mammal with a method reproduce that prints \"Giving birth to live young.\" Create a class \n",
    "# DogMammal inheriting from both Dog and Mammal\n",
    "class Mammal:\n",
    "    def reproduce(self):\n",
    "        print(\"giving brith to young\")\n",
    "class DogMammal(Mammal,dog):\n",
    "    pass"
   ]
  },
  {
   "cell_type": "code",
   "execution_count": 58,
   "id": "3b3ed2a0",
   "metadata": {},
   "outputs": [
    {
     "name": "stdout",
     "output_type": "stream",
     "text": [
      "Bark\n"
     ]
    }
   ],
   "source": [
    "# 35 Create a class GermanShepherd inheriting from Dog and override the make_sound method to print \n",
    "# \"Bark!\n",
    "\n",
    "class GermanShephard(dog):\n",
    "    def dog_sound(self):\n",
    "        print(\"Bark\")\n",
    "x = GermanShephard()\n",
    "x.dog_sound()"
   ]
  },
  {
   "cell_type": "code",
   "execution_count": null,
   "id": "df5ec7f9",
   "metadata": {},
   "outputs": [],
   "source": []
  }
 ],
 "metadata": {
  "kernelspec": {
   "display_name": "Python 3 (ipykernel)",
   "language": "python",
   "name": "python3"
  },
  "language_info": {
   "codemirror_mode": {
    "name": "ipython",
    "version": 3
   },
   "file_extension": ".py",
   "mimetype": "text/x-python",
   "name": "python",
   "nbconvert_exporter": "python",
   "pygments_lexer": "ipython3",
   "version": "3.11.9"
  }
 },
 "nbformat": 4,
 "nbformat_minor": 5
}
